{
  "nbformat": 4,
  "nbformat_minor": 0,
  "metadata": {
    "colab": {
      "provenance": []
    },
    "kernelspec": {
      "name": "python3",
      "display_name": "Python 3"
    },
    "language_info": {
      "name": "python"
    }
  },
  "cells": [
    {
      "cell_type": "markdown",
      "source": [
        "#Importing Libraries"
      ],
      "metadata": {
        "id": "D-Jy6gh5xg4r"
      }
    },
    {
      "cell_type": "code",
      "execution_count": null,
      "metadata": {
        "id": "Z_Y9cNMKxbiQ"
      },
      "outputs": [],
      "source": [
        "import numpy as np\n",
        "import pandas as pd\n",
        "import tensorflow as tf"
      ]
    },
    {
      "cell_type": "code",
      "source": [
        "tf.__version__"
      ],
      "metadata": {
        "colab": {
          "base_uri": "https://localhost:8080/",
          "height": 35
        },
        "id": "GVmGypJ-Wj8W",
        "outputId": "615e92ef-d39c-4217-d80a-c20ee7c40865"
      },
      "execution_count": null,
      "outputs": [
        {
          "output_type": "execute_result",
          "data": {
            "text/plain": [
              "'2.12.0'"
            ],
            "application/vnd.google.colaboratory.intrinsic+json": {
              "type": "string"
            }
          },
          "metadata": {},
          "execution_count": 357
        }
      ]
    },
    {
      "cell_type": "markdown",
      "source": [
        "#Importing the dataset"
      ],
      "metadata": {
        "id": "RREJ190Fxs1m"
      }
    },
    {
      "cell_type": "code",
      "source": [
        "features = pd.read_csv('features.csv')\n",
        "stores = pd.read_csv('stores.csv')\n",
        "training = pd.read_csv('train.csv')\n",
        "test = pd.read_csv('test.csv')"
      ],
      "metadata": {
        "id": "MDR57984xqJQ"
      },
      "execution_count": null,
      "outputs": []
    },
    {
      "cell_type": "markdown",
      "source": [
        "#Data Preprocessing"
      ],
      "metadata": {
        "id": "lycbDJcYy0cN"
      }
    },
    {
      "cell_type": "markdown",
      "source": [
        "Imputing the missing values"
      ],
      "metadata": {
        "id": "rENQcise0ImR"
      }
    },
    {
      "cell_type": "code",
      "source": [
        "mask = features['CPI'].isnull()\n",
        "features['CPI'].fillna(method = 'ffill', inplace = True)\n",
        "features['Unemployment'].fillna(method = 'ffill', inplace = True)"
      ],
      "metadata": {
        "id": "GE7B7ctyvsYn"
      },
      "execution_count": null,
      "outputs": []
    },
    {
      "cell_type": "markdown",
      "source": [
        "Converting Date string to datetime"
      ],
      "metadata": {
        "id": "9O_xQspZjTgY"
      }
    },
    {
      "cell_type": "code",
      "source": [
        "features['Date'] = pd.to_datetime(features['Date'])\n",
        "training['Date'] = pd.to_datetime(training['Date'])\n",
        "test['Date'] = pd.to_datetime(test['Date'])"
      ],
      "metadata": {
        "id": "ZQsfe2rayB89"
      },
      "execution_count": null,
      "outputs": []
    },
    {
      "cell_type": "markdown",
      "source": [
        "Imputing missing values for the markdowns"
      ],
      "metadata": {
        "id": "QWW2SJ5CE6KK"
      }
    },
    {
      "cell_type": "code",
      "source": [
        "cutoff_date = pd.to_datetime('11/11/2011')  # Replace 'yyyy-mm-dd' with the actual date\n",
        "\n",
        "# Calculate the mean of the known values store-wise\n",
        "store_means1 = features[features['Date'] > cutoff_date].groupby('Store')['MarkDown1'].mean()\n",
        "\n",
        "# Create a dictionary to map store-wise means to their respective stores\n",
        "store_means_dict1 = store_means1.to_dict()\n",
        "\n",
        "# Impute missing values with the store-wise means\n",
        "features['MarkDown1'] = features.apply(lambda row: row['MarkDown1'] if pd.notnull(row['MarkDown1']) else store_means_dict1.get(row['Store']) , axis=1)"
      ],
      "metadata": {
        "id": "40rdGEwuE6lD"
      },
      "execution_count": null,
      "outputs": []
    },
    {
      "cell_type": "code",
      "source": [
        "cutoff_date = pd.to_datetime('11/11/2011')  # Replace 'yyyy-mm-dd' with the actual date\n",
        "\n",
        "# Calculate the mean of the known values store-wise\n",
        "store_means2 = features[features['Date'] > cutoff_date].groupby('Store')['MarkDown2'].mean()\n",
        "\n",
        "# Create a dictionary to map store-wise means to their respective stores\n",
        "store_means_dict2 = store_means2.to_dict()\n",
        "\n",
        "# Impute missing values with the store-wise means\n",
        "features['MarkDown2'] = features.apply(lambda row: row['MarkDown2'] if pd.notnull(row['MarkDown2']) else store_means_dict2.get(row['Store']) , axis=1)"
      ],
      "metadata": {
        "id": "vrujICCPtOz-"
      },
      "execution_count": null,
      "outputs": []
    },
    {
      "cell_type": "code",
      "source": [
        "cutoff_date = pd.to_datetime('11/11/2011')  # Replace 'yyyy-mm-dd' with the actual date\n",
        "\n",
        "# Calculate the mean of the known values store-wise\n",
        "store_means3 = features[features['Date'] > cutoff_date].groupby('Store')['MarkDown3'].mean()\n",
        "\n",
        "# Create a dictionary to map store-wise means to their respective stores\n",
        "store_means_dict3 = store_means3.to_dict()\n",
        "\n",
        "# Impute missing values with the store-wise means\n",
        "features['MarkDown3'] = features.apply(lambda row: row['MarkDown3'] if pd.notnull(row['MarkDown3']) else store_means_dict3.get(row['Store']) , axis=1)"
      ],
      "metadata": {
        "id": "9U5LVpletXIT"
      },
      "execution_count": null,
      "outputs": []
    },
    {
      "cell_type": "code",
      "source": [
        "cutoff_date = pd.to_datetime('11/11/2011')  # Replace 'yyyy-mm-dd' with the actual date\n",
        "\n",
        "# Calculate the mean of the known values store-wise\n",
        "store_means4 = features[features['Date'] > cutoff_date].groupby('Store')['MarkDown4'].mean()\n",
        "\n",
        "# Create a dictionary to map store-wise means to their respective stores\n",
        "store_means_dict4 = store_means4.to_dict()\n",
        "\n",
        "# Impute missing values with the store-wise means\n",
        "features['MarkDown4'] = features.apply(lambda row: row['MarkDown4'] if pd.notnull(row['MarkDown4']) else store_means_dict4.get(row['Store']) , axis=1)"
      ],
      "metadata": {
        "id": "k7absN30tbfT"
      },
      "execution_count": null,
      "outputs": []
    },
    {
      "cell_type": "code",
      "source": [
        "cutoff_date = pd.to_datetime('11/11/2011')  # Replace 'yyyy-mm-dd' with the actual date\n",
        "\n",
        "# Calculate the mean of the known values store-wise\n",
        "store_means5 = features[features['Date'] > cutoff_date].groupby('Store')['MarkDown5'].mean()\n",
        "\n",
        "# Create a dictionary to map store-wise means to their respective stores\n",
        "store_means_dict5 = store_means5.to_dict()\n",
        "\n",
        "# Impute missing values with the store-wise means\n",
        "features['MarkDown5'] = features.apply(lambda row: row['MarkDown5'] if pd.notnull(row['MarkDown5']) else store_means_dict5.get(row['Store']) , axis=1)"
      ],
      "metadata": {
        "id": "PBFn25g5tjYA"
      },
      "execution_count": null,
      "outputs": []
    },
    {
      "cell_type": "markdown",
      "source": [
        "Converting datetime to numeric field"
      ],
      "metadata": {
        "id": "P-r5qGHtuiOk"
      }
    },
    {
      "cell_type": "code",
      "source": [
        "features['Date'] = pd.to_numeric(features['Date'])\n",
        "training['Date'] = pd.to_numeric(training['Date'])\n",
        "test['Date'] = pd.to_numeric(test['Date'])"
      ],
      "metadata": {
        "id": "KXh3MMLTulpb"
      },
      "execution_count": null,
      "outputs": []
    },
    {
      "cell_type": "markdown",
      "source": [
        "Merging datasets"
      ],
      "metadata": {
        "id": "kdi18SrBjWrv"
      }
    },
    {
      "cell_type": "code",
      "source": [
        "merger1 = pd.merge(training, features)\n",
        "merger2 = pd.merge(merger1, stores)\n",
        "merger3 = pd.merge(test, features)\n",
        "merger4 = pd.merge(merger3, stores)"
      ],
      "metadata": {
        "id": "UpYTpTl4yT3e"
      },
      "execution_count": null,
      "outputs": []
    },
    {
      "cell_type": "code",
      "source": [
        "print(merger4)"
      ],
      "metadata": {
        "colab": {
          "base_uri": "https://localhost:8080/"
        },
        "id": "EP38-JD-ISFG",
        "outputId": "af77e7d3-3753-4ef0-95a3-a853996640e9"
      },
      "execution_count": null,
      "outputs": [
        {
          "output_type": "stream",
          "name": "stdout",
          "text": [
            "        Store  Dept                 Date  IsHoliday  Temperature  Fuel_Price  \\\n",
            "0           1     1  1351814400000000000      False        55.32       3.386   \n",
            "1           1     2  1351814400000000000      False        55.32       3.386   \n",
            "2           1     3  1351814400000000000      False        55.32       3.386   \n",
            "3           1     4  1351814400000000000      False        55.32       3.386   \n",
            "4           1     5  1351814400000000000      False        55.32       3.386   \n",
            "...       ...   ...                  ...        ...          ...         ...   \n",
            "115059     45    93  1374796800000000000      False        76.06       3.804   \n",
            "115060     45    94  1374796800000000000      False        76.06       3.804   \n",
            "115061     45    95  1374796800000000000      False        76.06       3.804   \n",
            "115062     45    97  1374796800000000000      False        76.06       3.804   \n",
            "115063     45    98  1374796800000000000      False        76.06       3.804   \n",
            "\n",
            "        MarkDown1  MarkDown2  MarkDown3  MarkDown4  MarkDown5         CPI  \\\n",
            "0         6766.44    5147.70      50.82    3639.90    2737.42  223.462779   \n",
            "1         6766.44    5147.70      50.82    3639.90    2737.42  223.462779   \n",
            "2         6766.44    5147.70      50.82    3639.90    2737.42  223.462779   \n",
            "3         6766.44    5147.70      50.82    3639.90    2737.42  223.462779   \n",
            "4         6766.44    5147.70      50.82    3639.90    2737.42  223.462779   \n",
            "...           ...        ...        ...        ...        ...         ...   \n",
            "115059     212.02     851.73       2.06      10.88    1864.57  193.589304   \n",
            "115060     212.02     851.73       2.06      10.88    1864.57  193.589304   \n",
            "115061     212.02     851.73       2.06      10.88    1864.57  193.589304   \n",
            "115062     212.02     851.73       2.06      10.88    1864.57  193.589304   \n",
            "115063     212.02     851.73       2.06      10.88    1864.57  193.589304   \n",
            "\n",
            "        Unemployment Type    Size  \n",
            "0              6.573    A  151315  \n",
            "1              6.573    A  151315  \n",
            "2              6.573    A  151315  \n",
            "3              6.573    A  151315  \n",
            "4              6.573    A  151315  \n",
            "...              ...  ...     ...  \n",
            "115059         8.335    B  118221  \n",
            "115060         8.335    B  118221  \n",
            "115061         8.335    B  118221  \n",
            "115062         8.335    B  118221  \n",
            "115063         8.335    B  118221  \n",
            "\n",
            "[115064 rows x 15 columns]\n"
          ]
        }
      ]
    },
    {
      "cell_type": "markdown",
      "source": [
        "Encoding Categorical Data"
      ],
      "metadata": {
        "id": "c6Xuy2jzy5Px"
      }
    },
    {
      "cell_type": "code",
      "source": [
        "from sklearn.compose import ColumnTransformer\n",
        "from sklearn.preprocessing import OneHotEncoder\n",
        "ct1 = ColumnTransformer(transformers = [('encoder', OneHotEncoder(), [14])], remainder = 'passthrough')\n",
        "ct2 = ColumnTransformer(transformers = [('encoder', OneHotEncoder(), [13])], remainder = 'passthrough')\n",
        "merger2 = np.array(ct1.fit_transform(merger2))\n",
        "merger4 = np.array(ct2.fit_transform(merger4))"
      ],
      "metadata": {
        "id": "5uY8cKkgy2yB"
      },
      "execution_count": null,
      "outputs": []
    },
    {
      "cell_type": "code",
      "source": [
        "from sklearn.preprocessing import LabelEncoder\n",
        "le = LabelEncoder()\n",
        "merger2[:, 7] = le.fit_transform(merger2[:, 7])\n",
        "merger4[:, 6] = le.fit_transform(merger4[:, 6])"
      ],
      "metadata": {
        "id": "nryjTd02zUQu"
      },
      "execution_count": null,
      "outputs": []
    },
    {
      "cell_type": "markdown",
      "source": [
        "#Splitting the dataset into x and y"
      ],
      "metadata": {
        "id": "OX4yG3ACz8H1"
      }
    },
    {
      "cell_type": "code",
      "source": [
        "x_train = merger2[:, (0, 1, 2, 3, 4, 7, 8, 9, 10, 11, 12, 13, 14, 15, 16, 17)]\n",
        "y_train = merger2[:, (6)]"
      ],
      "metadata": {
        "id": "ElKMJh3L0AYj"
      },
      "execution_count": null,
      "outputs": []
    },
    {
      "cell_type": "code",
      "source": [
        "print(x_train[:5, :])"
      ],
      "metadata": {
        "colab": {
          "base_uri": "https://localhost:8080/"
        },
        "id": "5SfmfDHCdkY6",
        "outputId": "141d0365-281d-4d95-d304-a49c5db3b7f1"
      },
      "execution_count": null,
      "outputs": [
        {
          "output_type": "stream",
          "name": "stdout",
          "text": [
            "[[1.0 0.0 0.0 1 1 0 42.31 2.572 8515.847752808988 3307.9398611111114\n",
            "  1687.340340909091 3667.6428089887645 4404.452471910113 211.0963582\n",
            "  8.106 151315]\n",
            " [1.0 0.0 0.0 1 2 0 42.31 2.572 8515.847752808988 3307.9398611111114\n",
            "  1687.340340909091 3667.6428089887645 4404.452471910113 211.0963582\n",
            "  8.106 151315]\n",
            " [1.0 0.0 0.0 1 3 0 42.31 2.572 8515.847752808988 3307.9398611111114\n",
            "  1687.340340909091 3667.6428089887645 4404.452471910113 211.0963582\n",
            "  8.106 151315]\n",
            " [1.0 0.0 0.0 1 4 0 42.31 2.572 8515.847752808988 3307.9398611111114\n",
            "  1687.340340909091 3667.6428089887645 4404.452471910113 211.0963582\n",
            "  8.106 151315]\n",
            " [1.0 0.0 0.0 1 5 0 42.31 2.572 8515.847752808988 3307.9398611111114\n",
            "  1687.340340909091 3667.6428089887645 4404.452471910113 211.0963582\n",
            "  8.106 151315]]\n"
          ]
        }
      ]
    },
    {
      "cell_type": "code",
      "source": [
        "print(merger2[:5, :])"
      ],
      "metadata": {
        "colab": {
          "base_uri": "https://localhost:8080/"
        },
        "id": "n7rZY6v1dqJF",
        "outputId": "eed8fa9e-2e97-481b-ea9e-3e1ae57032c9"
      },
      "execution_count": null,
      "outputs": [
        {
          "output_type": "stream",
          "name": "stdout",
          "text": [
            "[[1.0 0.0 0.0 1 1 1265328000000000000 24924.5 0 42.31 2.572\n",
            "  8515.847752808988 3307.9398611111114 1687.340340909091\n",
            "  3667.6428089887645 4404.452471910113 211.0963582 8.106 151315]\n",
            " [1.0 0.0 0.0 1 2 1265328000000000000 50605.27 0 42.31 2.572\n",
            "  8515.847752808988 3307.9398611111114 1687.340340909091\n",
            "  3667.6428089887645 4404.452471910113 211.0963582 8.106 151315]\n",
            " [1.0 0.0 0.0 1 3 1265328000000000000 13740.12 0 42.31 2.572\n",
            "  8515.847752808988 3307.9398611111114 1687.340340909091\n",
            "  3667.6428089887645 4404.452471910113 211.0963582 8.106 151315]\n",
            " [1.0 0.0 0.0 1 4 1265328000000000000 39954.04 0 42.31 2.572\n",
            "  8515.847752808988 3307.9398611111114 1687.340340909091\n",
            "  3667.6428089887645 4404.452471910113 211.0963582 8.106 151315]\n",
            " [1.0 0.0 0.0 1 5 1265328000000000000 32229.38 0 42.31 2.572\n",
            "  8515.847752808988 3307.9398611111114 1687.340340909091\n",
            "  3667.6428089887645 4404.452471910113 211.0963582 8.106 151315]]\n"
          ]
        }
      ]
    },
    {
      "cell_type": "code",
      "source": [
        "x_test = merger4[:, (0, 1, 2, 3, 4, 6, 7, 8, 9, 10, 11, 12, 13, 14, 15, 16)]"
      ],
      "metadata": {
        "id": "uSPlpWpO9cRY"
      },
      "execution_count": null,
      "outputs": []
    },
    {
      "cell_type": "code",
      "source": [
        "print(merger4[:5, :])"
      ],
      "metadata": {
        "colab": {
          "base_uri": "https://localhost:8080/"
        },
        "id": "yna6XEHQH_7T",
        "outputId": "dc83c5cf-0352-47bd-b0a8-da5057870698"
      },
      "execution_count": null,
      "outputs": [
        {
          "output_type": "stream",
          "name": "stdout",
          "text": [
            "[[1.0 0.0 0.0 1 1 1351814400000000000 0 55.32 3.386 6766.44 5147.7 50.82\n",
            "  3639.9 2737.42 223.4627793 6.573 151315]\n",
            " [1.0 0.0 0.0 1 2 1351814400000000000 0 55.32 3.386 6766.44 5147.7 50.82\n",
            "  3639.9 2737.42 223.4627793 6.573 151315]\n",
            " [1.0 0.0 0.0 1 3 1351814400000000000 0 55.32 3.386 6766.44 5147.7 50.82\n",
            "  3639.9 2737.42 223.4627793 6.573 151315]\n",
            " [1.0 0.0 0.0 1 4 1351814400000000000 0 55.32 3.386 6766.44 5147.7 50.82\n",
            "  3639.9 2737.42 223.4627793 6.573 151315]\n",
            " [1.0 0.0 0.0 1 5 1351814400000000000 0 55.32 3.386 6766.44 5147.7 50.82\n",
            "  3639.9 2737.42 223.4627793 6.573 151315]]\n"
          ]
        }
      ]
    },
    {
      "cell_type": "markdown",
      "source": [
        "Formatting the matrices to numpy arrays"
      ],
      "metadata": {
        "id": "9CYtkl2TYwNg"
      }
    },
    {
      "cell_type": "code",
      "source": [
        "x_train = np.asarray(x_train).astype(np.float32)\n",
        "x_test = np.asarray(x_test).astype(np.float32)\n",
        "y_train = np.asarray(y_train).astype(np.float32)"
      ],
      "metadata": {
        "id": "iQ0nLkmZY1YS"
      },
      "execution_count": null,
      "outputs": []
    },
    {
      "cell_type": "code",
      "source": [
        "print(x_test.dtype)"
      ],
      "metadata": {
        "colab": {
          "base_uri": "https://localhost:8080/"
        },
        "id": "STvLFJH2gkIq",
        "outputId": "22442636-9dde-436e-923a-4b1f303a32d4"
      },
      "execution_count": null,
      "outputs": [
        {
          "output_type": "stream",
          "name": "stdout",
          "text": [
            "float32\n"
          ]
        }
      ]
    },
    {
      "cell_type": "code",
      "source": [
        "print(x_train.shape)\n",
        "print(y_train.shape)\n",
        "print(x_test.shape)"
      ],
      "metadata": {
        "colab": {
          "base_uri": "https://localhost:8080/"
        },
        "id": "q4qHX292Bmi6",
        "outputId": "dc03904f-8ee5-47df-829b-5a23b83b2ee2"
      },
      "execution_count": null,
      "outputs": [
        {
          "output_type": "stream",
          "name": "stdout",
          "text": [
            "(421570, 16)\n",
            "(421570,)\n",
            "(115064, 16)\n"
          ]
        }
      ]
    },
    {
      "cell_type": "code",
      "source": [
        "print(x_train[:5, :])"
      ],
      "metadata": {
        "colab": {
          "base_uri": "https://localhost:8080/"
        },
        "id": "6MFRGmU1gILO",
        "outputId": "b5cb9dd1-01e1-4939-e96e-fda4c75c0a44"
      },
      "execution_count": null,
      "outputs": [
        {
          "output_type": "stream",
          "name": "stdout",
          "text": [
            "[[1.00e+00 0.00e+00 0.00e+00 1.00e+00 1.00e+00 0.00e+00 4.23e+01 2.57e+00\n",
            "  8.52e+03 3.31e+03 1.69e+03 3.67e+03 4.40e+03 2.11e+02 8.11e+00 1.51e+05]\n",
            " [1.00e+00 0.00e+00 0.00e+00 1.00e+00 2.00e+00 0.00e+00 4.23e+01 2.57e+00\n",
            "  8.52e+03 3.31e+03 1.69e+03 3.67e+03 4.40e+03 2.11e+02 8.11e+00 1.51e+05]\n",
            " [1.00e+00 0.00e+00 0.00e+00 1.00e+00 3.00e+00 0.00e+00 4.23e+01 2.57e+00\n",
            "  8.52e+03 3.31e+03 1.69e+03 3.67e+03 4.40e+03 2.11e+02 8.11e+00 1.51e+05]\n",
            " [1.00e+00 0.00e+00 0.00e+00 1.00e+00 4.00e+00 0.00e+00 4.23e+01 2.57e+00\n",
            "  8.52e+03 3.31e+03 1.69e+03 3.67e+03 4.40e+03 2.11e+02 8.11e+00 1.51e+05]\n",
            " [1.00e+00 0.00e+00 0.00e+00 1.00e+00 5.00e+00 0.00e+00 4.23e+01 2.57e+00\n",
            "  8.52e+03 3.31e+03 1.69e+03 3.67e+03 4.40e+03 2.11e+02 8.11e+00 1.51e+05]]\n"
          ]
        }
      ]
    },
    {
      "cell_type": "code",
      "source": [
        "print(y_train)"
      ],
      "metadata": {
        "colab": {
          "base_uri": "https://localhost:8080/"
        },
        "id": "xBS6-_wbf_n8",
        "outputId": "974717e0-95cd-49e6-f525-c82a4ac5619b"
      },
      "execution_count": null,
      "outputs": [
        {
          "output_type": "stream",
          "name": "stdout",
          "text": [
            "[24924.5  50605.27 13740.12 ... 56017.47  6817.48  1076.8 ]\n"
          ]
        }
      ]
    },
    {
      "cell_type": "markdown",
      "source": [
        "#Feature Scaling"
      ],
      "metadata": {
        "id": "0RQOExxs640-"
      }
    },
    {
      "cell_type": "code",
      "source": [
        "from sklearn.preprocessing import StandardScaler\n",
        "sc = StandardScaler()\n",
        "x_train[:, 6:] = sc.fit_transform(x_train[:, 6:])\n",
        "x_test[:, 6:] = sc.transform(x_test[:, 6:])"
      ],
      "metadata": {
        "id": "hodsseYNOkl3"
      },
      "execution_count": null,
      "outputs": []
    },
    {
      "cell_type": "code",
      "source": [
        "print(x_train[:5, :])"
      ],
      "metadata": {
        "colab": {
          "base_uri": "https://localhost:8080/"
        },
        "id": "Dh0KagPIBEW1",
        "outputId": "11352d1d-cc13-45fb-cbb0-485aa088ef36"
      },
      "execution_count": null,
      "outputs": [
        {
          "output_type": "stream",
          "name": "stdout",
          "text": [
            "[[ 1.    0.    0.    1.    1.    0.   -0.96 -1.72  0.21  0.04  0.01  0.16\n",
            "  -0.01  1.02  0.08  0.24]\n",
            " [ 1.    0.    0.    1.    2.    0.   -0.96 -1.72  0.21  0.04  0.01  0.16\n",
            "  -0.01  1.02  0.08  0.24]\n",
            " [ 1.    0.    0.    1.    3.    0.   -0.96 -1.72  0.21  0.04  0.01  0.16\n",
            "  -0.01  1.02  0.08  0.24]\n",
            " [ 1.    0.    0.    1.    4.    0.   -0.96 -1.72  0.21  0.04  0.01  0.16\n",
            "  -0.01  1.02  0.08  0.24]\n",
            " [ 1.    0.    0.    1.    5.    0.   -0.96 -1.72  0.21  0.04  0.01  0.16\n",
            "  -0.01  1.02  0.08  0.24]]\n"
          ]
        }
      ]
    },
    {
      "cell_type": "markdown",
      "source": [
        "#Building the ANN"
      ],
      "metadata": {
        "id": "VG8fhBdn_rOt"
      }
    },
    {
      "cell_type": "markdown",
      "source": [
        "Intiailizing the ANN"
      ],
      "metadata": {
        "id": "yftIOaAUW9bh"
      }
    },
    {
      "cell_type": "code",
      "source": [
        "ann = tf.keras.models.Sequential()"
      ],
      "metadata": {
        "id": "n8kIi-BIW9C5"
      },
      "execution_count": null,
      "outputs": []
    },
    {
      "cell_type": "markdown",
      "source": [
        "Adding the input layer and the first hidden layer"
      ],
      "metadata": {
        "id": "63bakyLbXEUQ"
      }
    },
    {
      "cell_type": "code",
      "source": [
        "ann.add(tf.keras.layers.Dense(units = 32, activation = 'relu'))"
      ],
      "metadata": {
        "id": "K10FvtwrXIGh"
      },
      "execution_count": null,
      "outputs": []
    },
    {
      "cell_type": "markdown",
      "source": [
        "Adding the second hidden layer"
      ],
      "metadata": {
        "id": "5Nuea95nXS6s"
      }
    },
    {
      "cell_type": "code",
      "source": [
        "ann.add(tf.keras.layers.Dense(units = 64, activation = 'relu'))"
      ],
      "metadata": {
        "id": "e9WOod-IXVkZ"
      },
      "execution_count": null,
      "outputs": []
    },
    {
      "cell_type": "markdown",
      "source": [
        "Adding the third hidden layer"
      ],
      "metadata": {
        "id": "Q25TleAcKGgT"
      }
    },
    {
      "cell_type": "code",
      "source": [
        "ann.add(tf.keras.layers.Dense(units = 64, activation = 'relu'))"
      ],
      "metadata": {
        "id": "TqUDsXNtKJoS"
      },
      "execution_count": null,
      "outputs": []
    },
    {
      "cell_type": "markdown",
      "source": [
        "Adding the output layer"
      ],
      "metadata": {
        "id": "iMmKH_ZlXcDy"
      }
    },
    {
      "cell_type": "code",
      "source": [
        "ann.add(tf.keras.layers.Dense(units = 1))"
      ],
      "metadata": {
        "id": "EuAoh9FMXbVp"
      },
      "execution_count": null,
      "outputs": []
    },
    {
      "cell_type": "markdown",
      "source": [
        "#Training the ANN"
      ],
      "metadata": {
        "id": "xZZEl3gvADuk"
      }
    },
    {
      "cell_type": "markdown",
      "source": [
        "Compiling the ANN"
      ],
      "metadata": {
        "id": "K9y43ejNXnVO"
      }
    },
    {
      "cell_type": "code",
      "source": [
        "ann.compile(optimizer = 'adam', loss = tf.keras.losses.MeanAbsoluteError())"
      ],
      "metadata": {
        "id": "XKgC7ebRXrJu"
      },
      "execution_count": null,
      "outputs": []
    },
    {
      "cell_type": "markdown",
      "source": [
        "Training the ANN"
      ],
      "metadata": {
        "id": "dhc89ELpX0QF"
      }
    },
    {
      "cell_type": "code",
      "source": [
        "ann.fit(x_train, y_train, batch_size = 64, epochs = 50)"
      ],
      "metadata": {
        "colab": {
          "base_uri": "https://localhost:8080/"
        },
        "id": "R3caJqL_X18E",
        "outputId": "1fe14908-b63d-4adf-a44f-e511d1d976bc"
      },
      "execution_count": null,
      "outputs": [
        {
          "output_type": "stream",
          "name": "stdout",
          "text": [
            "Epoch 1/50\n",
            "6588/6588 [==============================] - 27s 4ms/step - loss: 9988.3008\n",
            "Epoch 2/50\n",
            "6588/6588 [==============================] - 17s 3ms/step - loss: 9884.9541\n",
            "Epoch 3/50\n",
            "6588/6588 [==============================] - 16s 2ms/step - loss: 9745.2832\n",
            "Epoch 4/50\n",
            "6588/6588 [==============================] - 16s 2ms/step - loss: 9599.4902\n",
            "Epoch 5/50\n",
            "6588/6588 [==============================] - 16s 2ms/step - loss: 9453.1074\n",
            "Epoch 6/50\n",
            "6588/6588 [==============================] - 17s 3ms/step - loss: 9330.5264\n",
            "Epoch 7/50\n",
            "6588/6588 [==============================] - 17s 3ms/step - loss: 9210.5576\n",
            "Epoch 8/50\n",
            "6588/6588 [==============================] - 16s 2ms/step - loss: 9114.8252\n",
            "Epoch 9/50\n",
            "6588/6588 [==============================] - 17s 3ms/step - loss: 9027.1777\n",
            "Epoch 10/50\n",
            "6588/6588 [==============================] - 17s 3ms/step - loss: 8969.8096\n",
            "Epoch 11/50\n",
            "6588/6588 [==============================] - 17s 3ms/step - loss: 8906.5479\n",
            "Epoch 12/50\n",
            "6588/6588 [==============================] - 17s 3ms/step - loss: 8856.2529\n",
            "Epoch 13/50\n",
            "6588/6588 [==============================] - 17s 3ms/step - loss: 8823.9756\n",
            "Epoch 14/50\n",
            "6588/6588 [==============================] - 15s 2ms/step - loss: 8786.8896\n",
            "Epoch 15/50\n",
            "6588/6588 [==============================] - 15s 2ms/step - loss: 8745.6123\n",
            "Epoch 16/50\n",
            "6588/6588 [==============================] - 15s 2ms/step - loss: 8708.8477\n",
            "Epoch 17/50\n",
            "6588/6588 [==============================] - 15s 2ms/step - loss: 8675.7207\n",
            "Epoch 18/50\n",
            "6588/6588 [==============================] - 16s 2ms/step - loss: 8656.1572\n",
            "Epoch 19/50\n",
            "6588/6588 [==============================] - 16s 2ms/step - loss: 8617.8105\n",
            "Epoch 20/50\n",
            "6588/6588 [==============================] - 16s 2ms/step - loss: 8597.3574\n",
            "Epoch 21/50\n",
            "6588/6588 [==============================] - 17s 3ms/step - loss: 8575.6494\n",
            "Epoch 22/50\n",
            "6588/6588 [==============================] - 16s 2ms/step - loss: 8562.7910\n",
            "Epoch 23/50\n",
            "6588/6588 [==============================] - 16s 2ms/step - loss: 8539.3594\n",
            "Epoch 24/50\n",
            "6588/6588 [==============================] - 16s 2ms/step - loss: 8521.5254\n",
            "Epoch 25/50\n",
            "6588/6588 [==============================] - 15s 2ms/step - loss: 8500.7207\n",
            "Epoch 26/50\n",
            "6588/6588 [==============================] - 15s 2ms/step - loss: 8488.0518\n",
            "Epoch 27/50\n",
            "6588/6588 [==============================] - 17s 3ms/step - loss: 8451.1299\n",
            "Epoch 28/50\n",
            "6588/6588 [==============================] - 15s 2ms/step - loss: 8444.3730\n",
            "Epoch 29/50\n",
            "6588/6588 [==============================] - 17s 3ms/step - loss: 8417.5303\n",
            "Epoch 30/50\n",
            "6588/6588 [==============================] - 16s 2ms/step - loss: 8409.1299\n",
            "Epoch 31/50\n",
            "6588/6588 [==============================] - 17s 3ms/step - loss: 8375.7002\n",
            "Epoch 32/50\n",
            "6588/6588 [==============================] - 15s 2ms/step - loss: 8353.5684\n",
            "Epoch 33/50\n",
            "6588/6588 [==============================] - 16s 2ms/step - loss: 8326.7783\n",
            "Epoch 34/50\n",
            "6588/6588 [==============================] - 15s 2ms/step - loss: 8301.8223\n",
            "Epoch 35/50\n",
            "6588/6588 [==============================] - 16s 2ms/step - loss: 8280.8535\n",
            "Epoch 36/50\n",
            "6588/6588 [==============================] - 16s 2ms/step - loss: 8263.0254\n",
            "Epoch 37/50\n",
            "6588/6588 [==============================] - 16s 2ms/step - loss: 8245.2285\n",
            "Epoch 38/50\n",
            "6588/6588 [==============================] - 16s 2ms/step - loss: 8225.7969\n",
            "Epoch 39/50\n",
            "6588/6588 [==============================] - 15s 2ms/step - loss: 8201.3848\n",
            "Epoch 40/50\n",
            "6588/6588 [==============================] - 17s 3ms/step - loss: 8183.4644\n",
            "Epoch 41/50\n",
            "6588/6588 [==============================] - 18s 3ms/step - loss: 8157.5654\n",
            "Epoch 42/50\n",
            "6588/6588 [==============================] - 16s 3ms/step - loss: 8136.2705\n",
            "Epoch 43/50\n",
            "6588/6588 [==============================] - 17s 3ms/step - loss: 8126.9736\n",
            "Epoch 44/50\n",
            "6588/6588 [==============================] - 17s 3ms/step - loss: 8098.6963\n",
            "Epoch 45/50\n",
            "6588/6588 [==============================] - 17s 3ms/step - loss: 8088.1768\n",
            "Epoch 46/50\n",
            "6588/6588 [==============================] - 16s 2ms/step - loss: 8063.6914\n",
            "Epoch 47/50\n",
            "6588/6588 [==============================] - 16s 2ms/step - loss: 8047.9341\n",
            "Epoch 48/50\n",
            "6588/6588 [==============================] - 15s 2ms/step - loss: 8039.9473\n",
            "Epoch 49/50\n",
            "6588/6588 [==============================] - 14s 2ms/step - loss: 8025.8096\n",
            "Epoch 50/50\n",
            "6588/6588 [==============================] - 14s 2ms/step - loss: 8000.8320\n"
          ]
        },
        {
          "output_type": "execute_result",
          "data": {
            "text/plain": [
              "<keras.callbacks.History at 0x7f15b6ae8eb0>"
            ]
          },
          "metadata": {},
          "execution_count": 390
        }
      ]
    },
    {
      "cell_type": "markdown",
      "source": [
        "#Predicting the values for the test set"
      ],
      "metadata": {
        "id": "SEpkrpcuX-Pd"
      }
    },
    {
      "cell_type": "code",
      "source": [
        "y_pred = ann.predict(x_test)\n",
        "np.set_printoptions(precision = 2)\n",
        "print(y_pred)"
      ],
      "metadata": {
        "id": "EjhV74MxYH4d",
        "colab": {
          "base_uri": "https://localhost:8080/"
        },
        "outputId": "912eda7e-2614-47d2-f7f2-7238591265fb"
      },
      "execution_count": null,
      "outputs": [
        {
          "output_type": "stream",
          "name": "stdout",
          "text": [
            "3596/3596 [==============================] - 5s 1ms/step\n",
            "[[27294.47]\n",
            " [25879.03]\n",
            " [24471.97]\n",
            " ...\n",
            " [ 7256.14]\n",
            " [ 4342.17]\n",
            " [ 3086.18]]\n"
          ]
        }
      ]
    }
  ]
}