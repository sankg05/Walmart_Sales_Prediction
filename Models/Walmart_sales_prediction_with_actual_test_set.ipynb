{
  "nbformat": 4,
  "nbformat_minor": 0,
  "metadata": {
    "colab": {
      "provenance": []
    },
    "kernelspec": {
      "name": "python3",
      "display_name": "Python 3"
    },
    "language_info": {
      "name": "python"
    }
  },
  "cells": [
    {
      "cell_type": "markdown",
      "source": [
        "#Importing Libraries"
      ],
      "metadata": {
        "id": "D-Jy6gh5xg4r"
      }
    },
    {
      "cell_type": "code",
      "execution_count": null,
      "metadata": {
        "id": "Z_Y9cNMKxbiQ"
      },
      "outputs": [],
      "source": [
        "import numpy as np\n",
        "import matplotlib as plt\n",
        "import pandas as pd"
      ]
    },
    {
      "cell_type": "markdown",
      "source": [
        "#Importing the dataset"
      ],
      "metadata": {
        "id": "RREJ190Fxs1m"
      }
    },
    {
      "cell_type": "code",
      "source": [
        "features = pd.read_csv('features.csv')\n",
        "stores = pd.read_csv('stores.csv')\n",
        "training = pd.read_csv('train.csv')\n",
        "test = pd.read_csv('test.csv')"
      ],
      "metadata": {
        "id": "MDR57984xqJQ"
      },
      "execution_count": null,
      "outputs": []
    },
    {
      "cell_type": "markdown",
      "source": [
        "#Data Preprocessing"
      ],
      "metadata": {
        "id": "lycbDJcYy0cN"
      }
    },
    {
      "cell_type": "markdown",
      "source": [
        "Imputing the missing values"
      ],
      "metadata": {
        "id": "rENQcise0ImR"
      }
    },
    {
      "cell_type": "code",
      "source": [
        "mask = features['CPI'].isnull()\n",
        "features['CPI'].fillna(method = 'ffill', inplace = True)\n",
        "features['Unemployment'].fillna(method = 'ffill', inplace = True)"
      ],
      "metadata": {
        "id": "GE7B7ctyvsYn"
      },
      "execution_count": null,
      "outputs": []
    },
    {
      "cell_type": "code",
      "source": [
        "features.iloc[169]"
      ],
      "metadata": {
        "colab": {
          "base_uri": "https://localhost:8080/"
        },
        "id": "qhbUUGjItIJU",
        "outputId": "a091496d-2021-4353-b60e-79e4d8296fbd"
      },
      "execution_count": null,
      "outputs": [
        {
          "output_type": "execute_result",
          "data": {
            "text/plain": [
              "Store                    1\n",
              "Date            2013-05-03\n",
              "Temperature          66.66\n",
              "Fuel_Price           3.386\n",
              "MarkDown1          2298.63\n",
              "MarkDown2              2.0\n",
              "MarkDown3            129.9\n",
              "MarkDown4            55.46\n",
              "MarkDown5          1301.04\n",
              "CPI              225.17016\n",
              "Unemployment         6.314\n",
              "IsHoliday            False\n",
              "Name: 169, dtype: object"
            ]
          },
          "metadata": {},
          "execution_count": 31
        }
      ]
    },
    {
      "cell_type": "code",
      "source": [
        "features.iloc[357]"
      ],
      "metadata": {
        "colab": {
          "base_uri": "https://localhost:8080/"
        },
        "id": "vZNtueCqwkuu",
        "outputId": "08210479-6161-4dc4-ba1d-9e8bf5fd4e03"
      },
      "execution_count": null,
      "outputs": [
        {
          "output_type": "execute_result",
          "data": {
            "text/plain": [
              "Store                    2\n",
              "Date            2013-06-14\n",
              "Temperature          80.91\n",
              "Fuel_Price           3.431\n",
              "MarkDown1           9784.1\n",
              "MarkDown2           548.27\n",
              "MarkDown3            674.6\n",
              "MarkDown4          2966.31\n",
              "MarkDown5          5282.33\n",
              "CPI             224.802531\n",
              "Unemployment         6.112\n",
              "IsHoliday            False\n",
              "Name: 357, dtype: object"
            ]
          },
          "metadata": {},
          "execution_count": 32
        }
      ]
    },
    {
      "cell_type": "markdown",
      "source": [
        "Converting Date string to datetime"
      ],
      "metadata": {
        "id": "9O_xQspZjTgY"
      }
    },
    {
      "cell_type": "code",
      "source": [
        "features['Date'] = pd.to_datetime(features['Date'])\n",
        "training['Date'] = pd.to_datetime(training['Date'])\n",
        "test['Date'] = pd.to_datetime(test['Date'])"
      ],
      "metadata": {
        "id": "ZQsfe2rayB89"
      },
      "execution_count": null,
      "outputs": []
    },
    {
      "cell_type": "markdown",
      "source": [
        "Imputing missing values for the markdowns"
      ],
      "metadata": {
        "id": "QWW2SJ5CE6KK"
      }
    },
    {
      "cell_type": "code",
      "source": [
        "cutoff_date = pd.to_datetime('11/11/2011')  # Replace 'yyyy-mm-dd' with the actual date\n",
        "\n",
        "# Calculate the mean of the known values store-wise\n",
        "store_means1 = features[features['Date'] > cutoff_date].groupby('Store')['MarkDown1'].mean()\n",
        "\n",
        "# Create a dictionary to map store-wise means to their respective stores\n",
        "store_means_dict1 = store_means1.to_dict()\n",
        "\n",
        "# Impute missing values with the store-wise means\n",
        "features['MarkDown1'] = features.apply(lambda row: row['MarkDown1'] if pd.notnull(row['MarkDown1']) else store_means_dict1.get(row['Store']) , axis=1)"
      ],
      "metadata": {
        "id": "40rdGEwuE6lD"
      },
      "execution_count": null,
      "outputs": []
    },
    {
      "cell_type": "code",
      "source": [
        "cutoff_date = pd.to_datetime('11/11/2011')  # Replace 'yyyy-mm-dd' with the actual date\n",
        "\n",
        "# Calculate the mean of the known values store-wise\n",
        "store_means2 = features[features['Date'] > cutoff_date].groupby('Store')['MarkDown2'].mean()\n",
        "\n",
        "# Create a dictionary to map store-wise means to their respective stores\n",
        "store_means_dict2 = store_means2.to_dict()\n",
        "\n",
        "# Impute missing values with the store-wise means\n",
        "features['MarkDown2'] = features.apply(lambda row: row['MarkDown2'] if pd.notnull(row['MarkDown2']) else store_means_dict2.get(row['Store']) , axis=1)"
      ],
      "metadata": {
        "id": "vrujICCPtOz-"
      },
      "execution_count": null,
      "outputs": []
    },
    {
      "cell_type": "code",
      "source": [
        "cutoff_date = pd.to_datetime('11/11/2011')  # Replace 'yyyy-mm-dd' with the actual date\n",
        "\n",
        "# Calculate the mean of the known values store-wise\n",
        "store_means3 = features[features['Date'] > cutoff_date].groupby('Store')['MarkDown3'].mean()\n",
        "\n",
        "# Create a dictionary to map store-wise means to their respective stores\n",
        "store_means_dict3 = store_means3.to_dict()\n",
        "\n",
        "# Impute missing values with the store-wise means\n",
        "features['MarkDown3'] = features.apply(lambda row: row['MarkDown3'] if pd.notnull(row['MarkDown3']) else store_means_dict3.get(row['Store']) , axis=1)"
      ],
      "metadata": {
        "id": "9U5LVpletXIT"
      },
      "execution_count": null,
      "outputs": []
    },
    {
      "cell_type": "code",
      "source": [
        "cutoff_date = pd.to_datetime('11/11/2011')  # Replace 'yyyy-mm-dd' with the actual date\n",
        "\n",
        "# Calculate the mean of the known values store-wise\n",
        "store_means4 = features[features['Date'] > cutoff_date].groupby('Store')['MarkDown4'].mean()\n",
        "\n",
        "# Create a dictionary to map store-wise means to their respective stores\n",
        "store_means_dict4 = store_means4.to_dict()\n",
        "\n",
        "# Impute missing values with the store-wise means\n",
        "features['MarkDown4'] = features.apply(lambda row: row['MarkDown4'] if pd.notnull(row['MarkDown4']) else store_means_dict4.get(row['Store']) , axis=1)"
      ],
      "metadata": {
        "id": "k7absN30tbfT"
      },
      "execution_count": null,
      "outputs": []
    },
    {
      "cell_type": "code",
      "source": [
        "cutoff_date = pd.to_datetime('11/11/2011')  # Replace 'yyyy-mm-dd' with the actual date\n",
        "\n",
        "# Calculate the mean of the known values store-wise\n",
        "store_means5 = features[features['Date'] > cutoff_date].groupby('Store')['MarkDown5'].mean()\n",
        "\n",
        "# Create a dictionary to map store-wise means to their respective stores\n",
        "store_means_dict5 = store_means5.to_dict()\n",
        "\n",
        "# Impute missing values with the store-wise means\n",
        "features['MarkDown5'] = features.apply(lambda row: row['MarkDown5'] if pd.notnull(row['MarkDown5']) else store_means_dict5.get(row['Store']) , axis=1)"
      ],
      "metadata": {
        "id": "PBFn25g5tjYA"
      },
      "execution_count": null,
      "outputs": []
    },
    {
      "cell_type": "code",
      "source": [
        "features.iloc[10]"
      ],
      "metadata": {
        "colab": {
          "base_uri": "https://localhost:8080/"
        },
        "id": "9kLZtegsE6bX",
        "outputId": "1a509b23-5bda-49c9-97f1-47dbbe33f82c"
      },
      "execution_count": null,
      "outputs": [
        {
          "output_type": "execute_result",
          "data": {
            "text/plain": [
              "Store                             1\n",
              "Date            2010-04-16 00:00:00\n",
              "Temperature                   66.32\n",
              "Fuel_Price                    2.808\n",
              "MarkDown1               8515.847753\n",
              "MarkDown2               3307.939861\n",
              "MarkDown3               1687.340341\n",
              "MarkDown4               3667.642809\n",
              "MarkDown5               4404.452472\n",
              "CPI                        210.4887\n",
              "Unemployment                  7.808\n",
              "IsHoliday                     False\n",
              "Name: 10, dtype: object"
            ]
          },
          "metadata": {},
          "execution_count": 39
        }
      ]
    },
    {
      "cell_type": "markdown",
      "source": [
        "Converting datetime to numeric field"
      ],
      "metadata": {
        "id": "P-r5qGHtuiOk"
      }
    },
    {
      "cell_type": "code",
      "source": [
        "features['Date'] = pd.to_numeric(features['Date'])\n",
        "training['Date'] = pd.to_numeric(training['Date'])\n",
        "test['Date'] = pd.to_numeric(test['Date'])"
      ],
      "metadata": {
        "id": "KXh3MMLTulpb"
      },
      "execution_count": null,
      "outputs": []
    },
    {
      "cell_type": "markdown",
      "source": [
        "Merging datasets"
      ],
      "metadata": {
        "id": "kdi18SrBjWrv"
      }
    },
    {
      "cell_type": "code",
      "source": [
        "merger1 = pd.merge(training, features)\n",
        "merger2 = pd.merge(merger1, stores)\n",
        "merger3 = pd.merge(test, features)\n",
        "merger4 = pd.merge(merger3, stores)"
      ],
      "metadata": {
        "id": "UpYTpTl4yT3e"
      },
      "execution_count": null,
      "outputs": []
    },
    {
      "cell_type": "code",
      "source": [
        "print(merger2)"
      ],
      "metadata": {
        "colab": {
          "base_uri": "https://localhost:8080/"
        },
        "id": "zdsfG5TwyDjh",
        "outputId": "eb172858-ce43-45aa-d9db-286bd51d1f0c"
      },
      "execution_count": null,
      "outputs": [
        {
          "output_type": "stream",
          "name": "stdout",
          "text": [
            "        Store  Dept                 Date  Weekly_Sales  IsHoliday  \\\n",
            "0           1     1  1265328000000000000      24924.50      False   \n",
            "1           1     2  1265328000000000000      50605.27      False   \n",
            "2           1     3  1265328000000000000      13740.12      False   \n",
            "3           1     4  1265328000000000000      39954.04      False   \n",
            "4           1     5  1265328000000000000      32229.38      False   \n",
            "...       ...   ...                  ...           ...        ...   \n",
            "421565     45    93  1351209600000000000       2487.80      False   \n",
            "421566     45    94  1351209600000000000       5203.31      False   \n",
            "421567     45    95  1351209600000000000      56017.47      False   \n",
            "421568     45    97  1351209600000000000       6817.48      False   \n",
            "421569     45    98  1351209600000000000       1076.80      False   \n",
            "\n",
            "        Temperature  Fuel_Price    MarkDown1    MarkDown2    MarkDown3  \\\n",
            "0             42.31       2.572  8515.847753  3307.939861  1687.340341   \n",
            "1             42.31       2.572  8515.847753  3307.939861  1687.340341   \n",
            "2             42.31       2.572  8515.847753  3307.939861  1687.340341   \n",
            "3             42.31       2.572  8515.847753  3307.939861  1687.340341   \n",
            "4             42.31       2.572  8515.847753  3307.939861  1687.340341   \n",
            "...             ...         ...          ...          ...          ...   \n",
            "421565        58.85       3.882  4018.910000    58.080000   100.000000   \n",
            "421566        58.85       3.882  4018.910000    58.080000   100.000000   \n",
            "421567        58.85       3.882  4018.910000    58.080000   100.000000   \n",
            "421568        58.85       3.882  4018.910000    58.080000   100.000000   \n",
            "421569        58.85       3.882  4018.910000    58.080000   100.000000   \n",
            "\n",
            "          MarkDown4    MarkDown5         CPI  Unemployment Type    Size  \n",
            "0       3667.642809  4404.452472  211.096358         8.106    A  151315  \n",
            "1       3667.642809  4404.452472  211.096358         8.106    A  151315  \n",
            "2       3667.642809  4404.452472  211.096358         8.106    A  151315  \n",
            "3       3667.642809  4404.452472  211.096358         8.106    A  151315  \n",
            "4       3667.642809  4404.452472  211.096358         8.106    A  151315  \n",
            "...             ...          ...         ...           ...  ...     ...  \n",
            "421565   211.940000   858.330000  192.308899         8.667    B  118221  \n",
            "421566   211.940000   858.330000  192.308899         8.667    B  118221  \n",
            "421567   211.940000   858.330000  192.308899         8.667    B  118221  \n",
            "421568   211.940000   858.330000  192.308899         8.667    B  118221  \n",
            "421569   211.940000   858.330000  192.308899         8.667    B  118221  \n",
            "\n",
            "[421570 rows x 16 columns]\n"
          ]
        }
      ]
    },
    {
      "cell_type": "code",
      "source": [
        "print(merger4)"
      ],
      "metadata": {
        "colab": {
          "base_uri": "https://localhost:8080/"
        },
        "id": "1MUfWev1xMAl",
        "outputId": "3104ac64-9a2d-4e87-c939-c05b2083346d"
      },
      "execution_count": null,
      "outputs": [
        {
          "output_type": "stream",
          "name": "stdout",
          "text": [
            "        Store  Dept                 Date  IsHoliday  Temperature  Fuel_Price  \\\n",
            "0           1     1  1351814400000000000      False        55.32       3.386   \n",
            "1           1     2  1351814400000000000      False        55.32       3.386   \n",
            "2           1     3  1351814400000000000      False        55.32       3.386   \n",
            "3           1     4  1351814400000000000      False        55.32       3.386   \n",
            "4           1     5  1351814400000000000      False        55.32       3.386   \n",
            "...       ...   ...                  ...        ...          ...         ...   \n",
            "115059     45    93  1374796800000000000      False        76.06       3.804   \n",
            "115060     45    94  1374796800000000000      False        76.06       3.804   \n",
            "115061     45    95  1374796800000000000      False        76.06       3.804   \n",
            "115062     45    97  1374796800000000000      False        76.06       3.804   \n",
            "115063     45    98  1374796800000000000      False        76.06       3.804   \n",
            "\n",
            "        MarkDown1  MarkDown2  MarkDown3  MarkDown4  MarkDown5         CPI  \\\n",
            "0         6766.44    5147.70      50.82    3639.90    2737.42  223.462779   \n",
            "1         6766.44    5147.70      50.82    3639.90    2737.42  223.462779   \n",
            "2         6766.44    5147.70      50.82    3639.90    2737.42  223.462779   \n",
            "3         6766.44    5147.70      50.82    3639.90    2737.42  223.462779   \n",
            "4         6766.44    5147.70      50.82    3639.90    2737.42  223.462779   \n",
            "...           ...        ...        ...        ...        ...         ...   \n",
            "115059     212.02     851.73       2.06      10.88    1864.57  193.589304   \n",
            "115060     212.02     851.73       2.06      10.88    1864.57  193.589304   \n",
            "115061     212.02     851.73       2.06      10.88    1864.57  193.589304   \n",
            "115062     212.02     851.73       2.06      10.88    1864.57  193.589304   \n",
            "115063     212.02     851.73       2.06      10.88    1864.57  193.589304   \n",
            "\n",
            "        Unemployment Type    Size  \n",
            "0              6.573    A  151315  \n",
            "1              6.573    A  151315  \n",
            "2              6.573    A  151315  \n",
            "3              6.573    A  151315  \n",
            "4              6.573    A  151315  \n",
            "...              ...  ...     ...  \n",
            "115059         8.335    B  118221  \n",
            "115060         8.335    B  118221  \n",
            "115061         8.335    B  118221  \n",
            "115062         8.335    B  118221  \n",
            "115063         8.335    B  118221  \n",
            "\n",
            "[115064 rows x 15 columns]\n"
          ]
        }
      ]
    },
    {
      "cell_type": "markdown",
      "source": [
        "Encoding Categorical Data"
      ],
      "metadata": {
        "id": "c6Xuy2jzy5Px"
      }
    },
    {
      "cell_type": "code",
      "source": [
        "from sklearn.compose import ColumnTransformer\n",
        "from sklearn.preprocessing import OneHotEncoder\n",
        "ct1 = ColumnTransformer(transformers = [('encoder', OneHotEncoder(), [14])], remainder = 'passthrough')\n",
        "ct2 = ColumnTransformer(transformers = [('encoder', OneHotEncoder(), [13])], remainder = 'passthrough')\n",
        "merger2 = np.array(ct1.fit_transform(merger2))\n",
        "merger4 = np.array(ct2.fit_transform(merger4))"
      ],
      "metadata": {
        "id": "5uY8cKkgy2yB"
      },
      "execution_count": null,
      "outputs": []
    },
    {
      "cell_type": "code",
      "source": [
        "print(merger2)"
      ],
      "metadata": {
        "colab": {
          "base_uri": "https://localhost:8080/"
        },
        "id": "gx691SJyxcQy",
        "outputId": "8a6772c7-4bf9-4751-d0fa-c0ba9c8edd0f"
      },
      "execution_count": null,
      "outputs": [
        {
          "output_type": "stream",
          "name": "stdout",
          "text": [
            "[[1.0 0.0 0.0 ... 211.0963582 8.106 151315]\n",
            " [1.0 0.0 0.0 ... 211.0963582 8.106 151315]\n",
            " [1.0 0.0 0.0 ... 211.0963582 8.106 151315]\n",
            " ...\n",
            " [0.0 1.0 0.0 ... 192.3088989 8.667 118221]\n",
            " [0.0 1.0 0.0 ... 192.3088989 8.667 118221]\n",
            " [0.0 1.0 0.0 ... 192.3088989 8.667 118221]]\n"
          ]
        }
      ]
    },
    {
      "cell_type": "code",
      "source": [
        "print(merger4)"
      ],
      "metadata": {
        "colab": {
          "base_uri": "https://localhost:8080/"
        },
        "id": "bUDj3fHqxeSx",
        "outputId": "6efa369b-93f1-4a2c-a810-6cb25c9fef89"
      },
      "execution_count": null,
      "outputs": [
        {
          "output_type": "stream",
          "name": "stdout",
          "text": [
            "[[1.0 0.0 0.0 ... 223.4627793 6.573 151315]\n",
            " [1.0 0.0 0.0 ... 223.4627793 6.573 151315]\n",
            " [1.0 0.0 0.0 ... 223.4627793 6.573 151315]\n",
            " ...\n",
            " [0.0 1.0 0.0 ... 193.589304 8.335 118221]\n",
            " [0.0 1.0 0.0 ... 193.589304 8.335 118221]\n",
            " [0.0 1.0 0.0 ... 193.589304 8.335 118221]]\n"
          ]
        }
      ]
    },
    {
      "cell_type": "code",
      "source": [
        "from sklearn.preprocessing import LabelEncoder\n",
        "le = LabelEncoder()\n",
        "merger2[:, 7] = le.fit_transform(merger2[:, 7])\n",
        "merger4[:, 6] = le.fit_transform(merger4[:, 6])"
      ],
      "metadata": {
        "id": "nryjTd02zUQu"
      },
      "execution_count": null,
      "outputs": []
    },
    {
      "cell_type": "code",
      "source": [
        "print(merger2[:5, :])"
      ],
      "metadata": {
        "id": "oDW9yT3gzt0g",
        "colab": {
          "base_uri": "https://localhost:8080/"
        },
        "outputId": "808d9ef0-4cd1-4a01-c434-8ad617f1e9c2"
      },
      "execution_count": null,
      "outputs": [
        {
          "output_type": "stream",
          "name": "stdout",
          "text": [
            "[[1.0 0.0 0.0 1 1 1265328000000000000 24924.5 0 42.31 2.572\n",
            "  8515.847752808988 3307.9398611111114 1687.340340909091\n",
            "  3667.6428089887645 4404.452471910113 211.0963582 8.106 151315]\n",
            " [1.0 0.0 0.0 1 2 1265328000000000000 50605.27 0 42.31 2.572\n",
            "  8515.847752808988 3307.9398611111114 1687.340340909091\n",
            "  3667.6428089887645 4404.452471910113 211.0963582 8.106 151315]\n",
            " [1.0 0.0 0.0 1 3 1265328000000000000 13740.12 0 42.31 2.572\n",
            "  8515.847752808988 3307.9398611111114 1687.340340909091\n",
            "  3667.6428089887645 4404.452471910113 211.0963582 8.106 151315]\n",
            " [1.0 0.0 0.0 1 4 1265328000000000000 39954.04 0 42.31 2.572\n",
            "  8515.847752808988 3307.9398611111114 1687.340340909091\n",
            "  3667.6428089887645 4404.452471910113 211.0963582 8.106 151315]\n",
            " [1.0 0.0 0.0 1 5 1265328000000000000 32229.38 0 42.31 2.572\n",
            "  8515.847752808988 3307.9398611111114 1687.340340909091\n",
            "  3667.6428089887645 4404.452471910113 211.0963582 8.106 151315]]\n"
          ]
        }
      ]
    },
    {
      "cell_type": "code",
      "source": [
        "print(merger4[:5, :])"
      ],
      "metadata": {
        "id": "_zYf8KIQz530",
        "colab": {
          "base_uri": "https://localhost:8080/"
        },
        "outputId": "38e64406-9f5c-44c3-9358-fc92293f77e3"
      },
      "execution_count": null,
      "outputs": [
        {
          "output_type": "stream",
          "name": "stdout",
          "text": [
            "[[1.0 0.0 0.0 1 1 1351814400000000000 0 55.32 3.386 6766.44 5147.7 50.82\n",
            "  3639.9 2737.42 223.4627793 6.573 151315]\n",
            " [1.0 0.0 0.0 1 2 1351814400000000000 0 55.32 3.386 6766.44 5147.7 50.82\n",
            "  3639.9 2737.42 223.4627793 6.573 151315]\n",
            " [1.0 0.0 0.0 1 3 1351814400000000000 0 55.32 3.386 6766.44 5147.7 50.82\n",
            "  3639.9 2737.42 223.4627793 6.573 151315]\n",
            " [1.0 0.0 0.0 1 4 1351814400000000000 0 55.32 3.386 6766.44 5147.7 50.82\n",
            "  3639.9 2737.42 223.4627793 6.573 151315]\n",
            " [1.0 0.0 0.0 1 5 1351814400000000000 0 55.32 3.386 6766.44 5147.7 50.82\n",
            "  3639.9 2737.42 223.4627793 6.573 151315]]\n"
          ]
        }
      ]
    },
    {
      "cell_type": "markdown",
      "source": [
        "#Splitting the dataset into x and y"
      ],
      "metadata": {
        "id": "OX4yG3ACz8H1"
      }
    },
    {
      "cell_type": "code",
      "source": [
        "x_train = merger2[:, (0, 1, 2, 3, 4, 5, 7, 8, 9, 10, 11, 12, 13, 14, 15, 16, 17)]\n",
        "y_train = merger2[:, 6]"
      ],
      "metadata": {
        "id": "ElKMJh3L0AYj"
      },
      "execution_count": null,
      "outputs": []
    },
    {
      "cell_type": "code",
      "source": [
        "print(x_train[:5, :])"
      ],
      "metadata": {
        "colab": {
          "base_uri": "https://localhost:8080/"
        },
        "id": "jHUKnWi09W1X",
        "outputId": "ecbc3c50-20d5-4d28-8a7c-f9d60037fe34"
      },
      "execution_count": null,
      "outputs": [
        {
          "output_type": "stream",
          "name": "stdout",
          "text": [
            "[[1.0 0.0 0.0 1 1 1265328000000000000 0 42.31 2.572 8515.847752808988\n",
            "  3307.9398611111114 1687.340340909091 3667.6428089887645\n",
            "  4404.452471910113 211.0963582 8.106 151315]\n",
            " [1.0 0.0 0.0 1 2 1265328000000000000 0 42.31 2.572 8515.847752808988\n",
            "  3307.9398611111114 1687.340340909091 3667.6428089887645\n",
            "  4404.452471910113 211.0963582 8.106 151315]\n",
            " [1.0 0.0 0.0 1 3 1265328000000000000 0 42.31 2.572 8515.847752808988\n",
            "  3307.9398611111114 1687.340340909091 3667.6428089887645\n",
            "  4404.452471910113 211.0963582 8.106 151315]\n",
            " [1.0 0.0 0.0 1 4 1265328000000000000 0 42.31 2.572 8515.847752808988\n",
            "  3307.9398611111114 1687.340340909091 3667.6428089887645\n",
            "  4404.452471910113 211.0963582 8.106 151315]\n",
            " [1.0 0.0 0.0 1 5 1265328000000000000 0 42.31 2.572 8515.847752808988\n",
            "  3307.9398611111114 1687.340340909091 3667.6428089887645\n",
            "  4404.452471910113 211.0963582 8.106 151315]]\n"
          ]
        }
      ]
    },
    {
      "cell_type": "code",
      "source": [
        "print(y_train)"
      ],
      "metadata": {
        "colab": {
          "base_uri": "https://localhost:8080/"
        },
        "id": "_cI7zOJ89YAW",
        "outputId": "099d1860-f63b-4a5b-8425-a0246bc1cb01"
      },
      "execution_count": null,
      "outputs": [
        {
          "output_type": "stream",
          "name": "stdout",
          "text": [
            "[24924.5 50605.27 13740.12 ... 56017.47 6817.48 1076.8]\n"
          ]
        }
      ]
    },
    {
      "cell_type": "code",
      "source": [
        "x_test = merger4[:, :]"
      ],
      "metadata": {
        "id": "uSPlpWpO9cRY"
      },
      "execution_count": null,
      "outputs": []
    },
    {
      "cell_type": "code",
      "source": [
        "print(x_test[:5, :])"
      ],
      "metadata": {
        "colab": {
          "base_uri": "https://localhost:8080/"
        },
        "id": "SRrdXcA9_i0W",
        "outputId": "16b91534-5c47-474c-aea3-041c993b26f9"
      },
      "execution_count": null,
      "outputs": [
        {
          "output_type": "stream",
          "name": "stdout",
          "text": [
            "[[1.0 0.0 0.0 1 1 1351814400000000000 0 55.32 3.386 6766.44 5147.7 50.82\n",
            "  3639.9 2737.42 223.4627793 6.573 151315]\n",
            " [1.0 0.0 0.0 1 2 1351814400000000000 0 55.32 3.386 6766.44 5147.7 50.82\n",
            "  3639.9 2737.42 223.4627793 6.573 151315]\n",
            " [1.0 0.0 0.0 1 3 1351814400000000000 0 55.32 3.386 6766.44 5147.7 50.82\n",
            "  3639.9 2737.42 223.4627793 6.573 151315]\n",
            " [1.0 0.0 0.0 1 4 1351814400000000000 0 55.32 3.386 6766.44 5147.7 50.82\n",
            "  3639.9 2737.42 223.4627793 6.573 151315]\n",
            " [1.0 0.0 0.0 1 5 1351814400000000000 0 55.32 3.386 6766.44 5147.7 50.82\n",
            "  3639.9 2737.42 223.4627793 6.573 151315]]\n"
          ]
        }
      ]
    },
    {
      "cell_type": "markdown",
      "source": [
        "#Feature Scaling"
      ],
      "metadata": {
        "id": "f6ZkbkVkQf0Q"
      }
    },
    {
      "cell_type": "code",
      "source": [
        "from sklearn.preprocessing import StandardScaler\n",
        "sc = StandardScaler()\n",
        "x_train[:, 5:] = sc.fit_transform(x_train[:, 5:])\n",
        "x_test[:, 5:] = sc.transform(x_test[:, 5:])"
      ],
      "metadata": {
        "id": "ujsNQXlEQiN1"
      },
      "execution_count": null,
      "outputs": []
    },
    {
      "cell_type": "markdown",
      "source": [
        "#Building the Regression Model"
      ],
      "metadata": {
        "id": "VG8fhBdn_rOt"
      }
    },
    {
      "cell_type": "code",
      "source": [
        "from sklearn.ensemble import RandomForestRegressor\n",
        "regressor = RandomForestRegressor(n_estimators = 10, random_state = 0)\n",
        "regressor.fit(x_train, y_train)"
      ],
      "metadata": {
        "colab": {
          "base_uri": "https://localhost:8080/",
          "height": 75
        },
        "id": "xZt8qZ4k_t-h",
        "outputId": "548e2a5d-d6fb-4adc-9023-77aac631521c"
      },
      "execution_count": null,
      "outputs": [
        {
          "output_type": "execute_result",
          "data": {
            "text/plain": [
              "RandomForestRegressor(n_estimators=10, random_state=0)"
            ],
            "text/html": [
              "<style>#sk-container-id-1 {color: black;background-color: white;}#sk-container-id-1 pre{padding: 0;}#sk-container-id-1 div.sk-toggleable {background-color: white;}#sk-container-id-1 label.sk-toggleable__label {cursor: pointer;display: block;width: 100%;margin-bottom: 0;padding: 0.3em;box-sizing: border-box;text-align: center;}#sk-container-id-1 label.sk-toggleable__label-arrow:before {content: \"▸\";float: left;margin-right: 0.25em;color: #696969;}#sk-container-id-1 label.sk-toggleable__label-arrow:hover:before {color: black;}#sk-container-id-1 div.sk-estimator:hover label.sk-toggleable__label-arrow:before {color: black;}#sk-container-id-1 div.sk-toggleable__content {max-height: 0;max-width: 0;overflow: hidden;text-align: left;background-color: #f0f8ff;}#sk-container-id-1 div.sk-toggleable__content pre {margin: 0.2em;color: black;border-radius: 0.25em;background-color: #f0f8ff;}#sk-container-id-1 input.sk-toggleable__control:checked~div.sk-toggleable__content {max-height: 200px;max-width: 100%;overflow: auto;}#sk-container-id-1 input.sk-toggleable__control:checked~label.sk-toggleable__label-arrow:before {content: \"▾\";}#sk-container-id-1 div.sk-estimator input.sk-toggleable__control:checked~label.sk-toggleable__label {background-color: #d4ebff;}#sk-container-id-1 div.sk-label input.sk-toggleable__control:checked~label.sk-toggleable__label {background-color: #d4ebff;}#sk-container-id-1 input.sk-hidden--visually {border: 0;clip: rect(1px 1px 1px 1px);clip: rect(1px, 1px, 1px, 1px);height: 1px;margin: -1px;overflow: hidden;padding: 0;position: absolute;width: 1px;}#sk-container-id-1 div.sk-estimator {font-family: monospace;background-color: #f0f8ff;border: 1px dotted black;border-radius: 0.25em;box-sizing: border-box;margin-bottom: 0.5em;}#sk-container-id-1 div.sk-estimator:hover {background-color: #d4ebff;}#sk-container-id-1 div.sk-parallel-item::after {content: \"\";width: 100%;border-bottom: 1px solid gray;flex-grow: 1;}#sk-container-id-1 div.sk-label:hover label.sk-toggleable__label {background-color: #d4ebff;}#sk-container-id-1 div.sk-serial::before {content: \"\";position: absolute;border-left: 1px solid gray;box-sizing: border-box;top: 0;bottom: 0;left: 50%;z-index: 0;}#sk-container-id-1 div.sk-serial {display: flex;flex-direction: column;align-items: center;background-color: white;padding-right: 0.2em;padding-left: 0.2em;position: relative;}#sk-container-id-1 div.sk-item {position: relative;z-index: 1;}#sk-container-id-1 div.sk-parallel {display: flex;align-items: stretch;justify-content: center;background-color: white;position: relative;}#sk-container-id-1 div.sk-item::before, #sk-container-id-1 div.sk-parallel-item::before {content: \"\";position: absolute;border-left: 1px solid gray;box-sizing: border-box;top: 0;bottom: 0;left: 50%;z-index: -1;}#sk-container-id-1 div.sk-parallel-item {display: flex;flex-direction: column;z-index: 1;position: relative;background-color: white;}#sk-container-id-1 div.sk-parallel-item:first-child::after {align-self: flex-end;width: 50%;}#sk-container-id-1 div.sk-parallel-item:last-child::after {align-self: flex-start;width: 50%;}#sk-container-id-1 div.sk-parallel-item:only-child::after {width: 0;}#sk-container-id-1 div.sk-dashed-wrapped {border: 1px dashed gray;margin: 0 0.4em 0.5em 0.4em;box-sizing: border-box;padding-bottom: 0.4em;background-color: white;}#sk-container-id-1 div.sk-label label {font-family: monospace;font-weight: bold;display: inline-block;line-height: 1.2em;}#sk-container-id-1 div.sk-label-container {text-align: center;}#sk-container-id-1 div.sk-container {/* jupyter's `normalize.less` sets `[hidden] { display: none; }` but bootstrap.min.css set `[hidden] { display: none !important; }` so we also need the `!important` here to be able to override the default hidden behavior on the sphinx rendered scikit-learn.org. See: https://github.com/scikit-learn/scikit-learn/issues/21755 */display: inline-block !important;position: relative;}#sk-container-id-1 div.sk-text-repr-fallback {display: none;}</style><div id=\"sk-container-id-1\" class=\"sk-top-container\"><div class=\"sk-text-repr-fallback\"><pre>RandomForestRegressor(n_estimators=10, random_state=0)</pre><b>In a Jupyter environment, please rerun this cell to show the HTML representation or trust the notebook. <br />On GitHub, the HTML representation is unable to render, please try loading this page with nbviewer.org.</b></div><div class=\"sk-container\" hidden><div class=\"sk-item\"><div class=\"sk-estimator sk-toggleable\"><input class=\"sk-toggleable__control sk-hidden--visually\" id=\"sk-estimator-id-1\" type=\"checkbox\" checked><label for=\"sk-estimator-id-1\" class=\"sk-toggleable__label sk-toggleable__label-arrow\">RandomForestRegressor</label><div class=\"sk-toggleable__content\"><pre>RandomForestRegressor(n_estimators=10, random_state=0)</pre></div></div></div></div></div>"
            ]
          },
          "metadata": {},
          "execution_count": 56
        }
      ]
    },
    {
      "cell_type": "markdown",
      "source": [
        "#Predicting values for the test set"
      ],
      "metadata": {
        "id": "xZZEl3gvADuk"
      }
    },
    {
      "cell_type": "code",
      "source": [
        "y_test = regressor.predict(x_test)\n",
        "np.set_printoptions(precision=2)\n",
        "print(y_test)"
      ],
      "metadata": {
        "colab": {
          "base_uri": "https://localhost:8080/"
        },
        "id": "-Eu1_AqlADTg",
        "outputId": "0e8b2b0e-cd06-46d3-a10e-3026ad41cd04"
      },
      "execution_count": null,
      "outputs": [
        {
          "output_type": "stream",
          "name": "stdout",
          "text": [
            "[27398.08 48051.49 10726.08 ... 55458.38  6515.06   799.41]\n"
          ]
        }
      ]
    }
  ]
}