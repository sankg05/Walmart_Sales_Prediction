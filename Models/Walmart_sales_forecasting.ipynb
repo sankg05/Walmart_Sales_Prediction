{
  "nbformat": 4,
  "nbformat_minor": 0,
  "metadata": {
    "colab": {
      "provenance": []
    },
    "kernelspec": {
      "name": "python3",
      "display_name": "Python 3"
    },
    "language_info": {
      "name": "python"
    }
  },
  "cells": [
    {
      "cell_type": "markdown",
      "source": [
        "# Importing Libraries"
      ],
      "metadata": {
        "id": "npAms_4UzMCw"
      }
    },
    {
      "cell_type": "code",
      "execution_count": null,
      "metadata": {
        "id": "bWhC_cuRy25H"
      },
      "outputs": [],
      "source": [
        "import numpy as np\n",
        "import pandas as pd\n",
        "import matplotlib as plt"
      ]
    },
    {
      "cell_type": "markdown",
      "source": [
        "# Importing the dataset"
      ],
      "metadata": {
        "id": "WFmnwCq6zbVH"
      }
    },
    {
      "cell_type": "code",
      "source": [
        "d1 = pd.read_csv('features.csv')\n",
        "d2 = pd.read_csv('stores.csv')\n",
        "d3 = pd.read_csv('train.csv')\n",
        "d4 = pd.read_csv('test.csv')\n",
        "d3['Date'] = pd.to_numeric(pd.to_datetime(d3['Date']))\n",
        "d1['Date'] = pd.to_numeric(pd.to_datetime(d1['Date']))"
      ],
      "metadata": {
        "id": "vvaNRW6szgjJ"
      },
      "execution_count": null,
      "outputs": []
    },
    {
      "cell_type": "code",
      "source": [
        "print(d3)"
      ],
      "metadata": {
        "colab": {
          "base_uri": "https://localhost:8080/"
        },
        "id": "exImQ2x9h2J5",
        "outputId": "3f586ff9-0adc-4683-fc3b-2f7bbbf37cec"
      },
      "execution_count": null,
      "outputs": [
        {
          "output_type": "stream",
          "name": "stdout",
          "text": [
            "        Store  Dept                 Date  Weekly_Sales  IsHoliday\n",
            "0           1     1  1265328000000000000      24924.50      False\n",
            "1           1     1  1265932800000000000      46039.49       True\n",
            "2           1     1  1266537600000000000      41595.55      False\n",
            "3           1     1  1267142400000000000      19403.54      False\n",
            "4           1     1  1267747200000000000      21827.90      False\n",
            "...       ...   ...                  ...           ...        ...\n",
            "421565     45    98  1348790400000000000        508.37      False\n",
            "421566     45    98  1349395200000000000        628.10      False\n",
            "421567     45    98  1350000000000000000       1061.02      False\n",
            "421568     45    98  1350604800000000000        760.01      False\n",
            "421569     45    98  1351209600000000000       1076.80      False\n",
            "\n",
            "[421570 rows x 5 columns]\n"
          ]
        }
      ]
    },
    {
      "cell_type": "code",
      "source": [
        "merger = pd.merge(d3, d1)\n",
        "x = pd.merge(merger, d2)\n",
        "x.shape"
      ],
      "metadata": {
        "colab": {
          "base_uri": "https://localhost:8080/"
        },
        "id": "7NjGEhCzge_G",
        "outputId": "941d30db-fed2-4296-ba1f-76969c8f42fe"
      },
      "execution_count": null,
      "outputs": [
        {
          "output_type": "execute_result",
          "data": {
            "text/plain": [
              "(421570, 16)"
            ]
          },
          "metadata": {},
          "execution_count": 177
        }
      ]
    },
    {
      "cell_type": "code",
      "source": [
        "print(x.head())"
      ],
      "metadata": {
        "colab": {
          "base_uri": "https://localhost:8080/"
        },
        "id": "0VLPqV8-6rV3",
        "outputId": "6a712efa-d88d-4b97-ee69-a795adb1fc7b"
      },
      "execution_count": null,
      "outputs": [
        {
          "output_type": "stream",
          "name": "stdout",
          "text": [
            "   Store  Dept                 Date  Weekly_Sales  IsHoliday  Temperature  \\\n",
            "0      1     1  1265328000000000000      24924.50      False        42.31   \n",
            "1      1     2  1265328000000000000      50605.27      False        42.31   \n",
            "2      1     3  1265328000000000000      13740.12      False        42.31   \n",
            "3      1     4  1265328000000000000      39954.04      False        42.31   \n",
            "4      1     5  1265328000000000000      32229.38      False        42.31   \n",
            "\n",
            "   Fuel_Price  MarkDown1  MarkDown2  MarkDown3  MarkDown4  MarkDown5  \\\n",
            "0       2.572        NaN        NaN        NaN        NaN        NaN   \n",
            "1       2.572        NaN        NaN        NaN        NaN        NaN   \n",
            "2       2.572        NaN        NaN        NaN        NaN        NaN   \n",
            "3       2.572        NaN        NaN        NaN        NaN        NaN   \n",
            "4       2.572        NaN        NaN        NaN        NaN        NaN   \n",
            "\n",
            "          CPI  Unemployment Type    Size  \n",
            "0  211.096358         8.106    A  151315  \n",
            "1  211.096358         8.106    A  151315  \n",
            "2  211.096358         8.106    A  151315  \n",
            "3  211.096358         8.106    A  151315  \n",
            "4  211.096358         8.106    A  151315  \n"
          ]
        }
      ]
    },
    {
      "cell_type": "markdown",
      "source": [
        "#Data Preprocessing"
      ],
      "metadata": {
        "id": "5hI8QVm01hCR"
      }
    },
    {
      "cell_type": "markdown",
      "source": [
        "Label Encoding of Categorical Data"
      ],
      "metadata": {
        "id": "mlR3AhsU1tGe"
      }
    },
    {
      "cell_type": "code",
      "source": [
        "print(x)"
      ],
      "metadata": {
        "colab": {
          "base_uri": "https://localhost:8080/"
        },
        "id": "HPJmA7AtGLj1",
        "outputId": "79374f62-a9a7-4a83-f135-d789db198775"
      },
      "execution_count": null,
      "outputs": [
        {
          "output_type": "stream",
          "name": "stdout",
          "text": [
            "        Store  Dept                 Date  Weekly_Sales  IsHoliday  \\\n",
            "0           1     1  1265328000000000000      24924.50      False   \n",
            "1           1     2  1265328000000000000      50605.27      False   \n",
            "2           1     3  1265328000000000000      13740.12      False   \n",
            "3           1     4  1265328000000000000      39954.04      False   \n",
            "4           1     5  1265328000000000000      32229.38      False   \n",
            "...       ...   ...                  ...           ...        ...   \n",
            "421565     45    93  1351209600000000000       2487.80      False   \n",
            "421566     45    94  1351209600000000000       5203.31      False   \n",
            "421567     45    95  1351209600000000000      56017.47      False   \n",
            "421568     45    97  1351209600000000000       6817.48      False   \n",
            "421569     45    98  1351209600000000000       1076.80      False   \n",
            "\n",
            "        Temperature  Fuel_Price  MarkDown1  MarkDown2  MarkDown3  MarkDown4  \\\n",
            "0             42.31       2.572        NaN        NaN        NaN        NaN   \n",
            "1             42.31       2.572        NaN        NaN        NaN        NaN   \n",
            "2             42.31       2.572        NaN        NaN        NaN        NaN   \n",
            "3             42.31       2.572        NaN        NaN        NaN        NaN   \n",
            "4             42.31       2.572        NaN        NaN        NaN        NaN   \n",
            "...             ...         ...        ...        ...        ...        ...   \n",
            "421565        58.85       3.882    4018.91      58.08      100.0     211.94   \n",
            "421566        58.85       3.882    4018.91      58.08      100.0     211.94   \n",
            "421567        58.85       3.882    4018.91      58.08      100.0     211.94   \n",
            "421568        58.85       3.882    4018.91      58.08      100.0     211.94   \n",
            "421569        58.85       3.882    4018.91      58.08      100.0     211.94   \n",
            "\n",
            "        MarkDown5         CPI  Unemployment Type    Size  \n",
            "0             NaN  211.096358         8.106    A  151315  \n",
            "1             NaN  211.096358         8.106    A  151315  \n",
            "2             NaN  211.096358         8.106    A  151315  \n",
            "3             NaN  211.096358         8.106    A  151315  \n",
            "4             NaN  211.096358         8.106    A  151315  \n",
            "...           ...         ...           ...  ...     ...  \n",
            "421565     858.33  192.308899         8.667    B  118221  \n",
            "421566     858.33  192.308899         8.667    B  118221  \n",
            "421567     858.33  192.308899         8.667    B  118221  \n",
            "421568     858.33  192.308899         8.667    B  118221  \n",
            "421569     858.33  192.308899         8.667    B  118221  \n",
            "\n",
            "[421570 rows x 16 columns]\n"
          ]
        }
      ]
    },
    {
      "cell_type": "code",
      "source": [
        "from sklearn.compose import ColumnTransformer\n",
        "from sklearn.preprocessing import OneHotEncoder\n",
        "ct = ColumnTransformer(transformers = [('encoder', OneHotEncoder(), [14])], remainder = 'passthrough')\n",
        "x = np.array(ct.fit_transform(x))"
      ],
      "metadata": {
        "id": "FqALMyBi5Yie"
      },
      "execution_count": null,
      "outputs": []
    },
    {
      "cell_type": "code",
      "source": [
        "print(x)"
      ],
      "metadata": {
        "colab": {
          "base_uri": "https://localhost:8080/"
        },
        "id": "cfOxVbMUGB8U",
        "outputId": "dada6063-f062-4233-c885-6565a2bec7d5"
      },
      "execution_count": null,
      "outputs": [
        {
          "output_type": "stream",
          "name": "stdout",
          "text": [
            "[[1.0 0.0 0.0 ... 211.0963582 8.106 151315]\n",
            " [1.0 0.0 0.0 ... 211.0963582 8.106 151315]\n",
            " [1.0 0.0 0.0 ... 211.0963582 8.106 151315]\n",
            " ...\n",
            " [0.0 1.0 0.0 ... 192.3088989 8.667 118221]\n",
            " [0.0 1.0 0.0 ... 192.3088989 8.667 118221]\n",
            " [0.0 1.0 0.0 ... 192.3088989 8.667 118221]]\n"
          ]
        }
      ]
    },
    {
      "cell_type": "code",
      "source": [
        "from sklearn.preprocessing import LabelEncoder\n",
        "le = LabelEncoder()\n",
        "x[:, 7] = le.fit_transform(x[:, 7])"
      ],
      "metadata": {
        "id": "F5j2pUunBq-E"
      },
      "execution_count": null,
      "outputs": []
    },
    {
      "cell_type": "code",
      "source": [
        "print(x[100:, 7])"
      ],
      "metadata": {
        "colab": {
          "base_uri": "https://localhost:8080/"
        },
        "id": "OZBWKlqm-4ps",
        "outputId": "64172e2f-2c68-4696-f8c4-b2701fd18cb0"
      },
      "execution_count": null,
      "outputs": [
        {
          "output_type": "stream",
          "name": "stdout",
          "text": [
            "[1 1 1 ... 0 0 0]\n"
          ]
        }
      ]
    },
    {
      "cell_type": "code",
      "source": [
        "print(x.shape)"
      ],
      "metadata": {
        "colab": {
          "base_uri": "https://localhost:8080/"
        },
        "id": "1CwuUZotn8Ui",
        "outputId": "bd379a79-b790-4a8e-8d96-7f89008f9ccd"
      },
      "execution_count": null,
      "outputs": [
        {
          "output_type": "stream",
          "name": "stdout",
          "text": [
            "(421570, 18)\n"
          ]
        }
      ]
    },
    {
      "cell_type": "markdown",
      "source": [
        "#Splitting the dataset"
      ],
      "metadata": {
        "id": "l02-1aQOa5xM"
      }
    },
    {
      "cell_type": "code",
      "source": [
        "y = x[:, (6)]\n",
        "x = x[:, (0, 1, 2, 3, 4, 5, 7, 8, 9, 15, 16, 17)]\n",
        "print(y)\n",
        "print(x[:5 , :])"
      ],
      "metadata": {
        "colab": {
          "base_uri": "https://localhost:8080/"
        },
        "id": "FgUGnrbxbbst",
        "outputId": "fca0c79f-b915-494d-a89b-5e6a48592892"
      },
      "execution_count": null,
      "outputs": [
        {
          "output_type": "stream",
          "name": "stdout",
          "text": [
            "[24924.5 50605.27 13740.12 ... 56017.47 6817.48 1076.8]\n",
            "[[1.0 0.0 0.0 1 1 1265328000000000000 0 42.31 2.572 211.0963582 8.106\n",
            "  151315]\n",
            " [1.0 0.0 0.0 1 2 1265328000000000000 0 42.31 2.572 211.0963582 8.106\n",
            "  151315]\n",
            " [1.0 0.0 0.0 1 3 1265328000000000000 0 42.31 2.572 211.0963582 8.106\n",
            "  151315]\n",
            " [1.0 0.0 0.0 1 4 1265328000000000000 0 42.31 2.572 211.0963582 8.106\n",
            "  151315]\n",
            " [1.0 0.0 0.0 1 5 1265328000000000000 0 42.31 2.572 211.0963582 8.106\n",
            "  151315]]\n"
          ]
        }
      ]
    },
    {
      "cell_type": "code",
      "source": [
        "from sklearn.model_selection import train_test_split\n",
        "x_train, x_test, y_train, y_test = train_test_split(x, y, test_size = 0.2, random_state = 1)"
      ],
      "metadata": {
        "id": "woE6NxJva-U1"
      },
      "execution_count": null,
      "outputs": []
    },
    {
      "cell_type": "code",
      "source": [
        "print(x_train)"
      ],
      "metadata": {
        "colab": {
          "base_uri": "https://localhost:8080/"
        },
        "id": "STO4PedjdarK",
        "outputId": "62e37dc9-746f-486a-89ae-8b5a2ef7d748"
      },
      "execution_count": null,
      "outputs": [
        {
          "output_type": "stream",
          "name": "stdout",
          "text": [
            "[[1.0 0.0 0.0 ... 218.9551002 7.244 184109]\n",
            " [0.0 1.0 0.0 ... 127.1917742 6.866 93188]\n",
            " [1.0 0.0 0.0 ... 126.0766452 7.372 205863]\n",
            " ...\n",
            " [1.0 0.0 0.0 ... 197.6063534 8.09 203007]\n",
            " [1.0 0.0 0.0 ... 126.5782857 13.975 206302]\n",
            " [1.0 0.0 0.0 ... 131.1930968 5.621 219622]]\n"
          ]
        }
      ]
    },
    {
      "cell_type": "code",
      "source": [
        "print(y_train)"
      ],
      "metadata": {
        "colab": {
          "base_uri": "https://localhost:8080/"
        },
        "id": "OL9S46ovdcZ0",
        "outputId": "8faf3596-8a41-410b-ce46-942414b8d40f"
      },
      "execution_count": null,
      "outputs": [
        {
          "output_type": "stream",
          "name": "stdout",
          "text": [
            "[6976.9 61958.93 30029.99 ... 13742.09 31969.84 7314.91]\n"
          ]
        }
      ]
    },
    {
      "cell_type": "markdown",
      "source": [
        "#Building the Regression Model"
      ],
      "metadata": {
        "id": "xHgbpIILeCDM"
      }
    },
    {
      "cell_type": "code",
      "source": [
        "from sklearn.ensemble import RandomForestRegressor\n",
        "regressor = RandomForestRegressor(n_estimators = 10, random_state = 0)\n",
        "regressor.fit(x_train, y_train)"
      ],
      "metadata": {
        "colab": {
          "base_uri": "https://localhost:8080/",
          "height": 75
        },
        "id": "_3loks9MeHnM",
        "outputId": "b691c162-749c-46ba-81c2-2f6509510b6c"
      },
      "execution_count": null,
      "outputs": [
        {
          "output_type": "execute_result",
          "data": {
            "text/plain": [
              "RandomForestRegressor(n_estimators=10, random_state=0)"
            ],
            "text/html": [
              "<style>#sk-container-id-1 {color: black;background-color: white;}#sk-container-id-1 pre{padding: 0;}#sk-container-id-1 div.sk-toggleable {background-color: white;}#sk-container-id-1 label.sk-toggleable__label {cursor: pointer;display: block;width: 100%;margin-bottom: 0;padding: 0.3em;box-sizing: border-box;text-align: center;}#sk-container-id-1 label.sk-toggleable__label-arrow:before {content: \"▸\";float: left;margin-right: 0.25em;color: #696969;}#sk-container-id-1 label.sk-toggleable__label-arrow:hover:before {color: black;}#sk-container-id-1 div.sk-estimator:hover label.sk-toggleable__label-arrow:before {color: black;}#sk-container-id-1 div.sk-toggleable__content {max-height: 0;max-width: 0;overflow: hidden;text-align: left;background-color: #f0f8ff;}#sk-container-id-1 div.sk-toggleable__content pre {margin: 0.2em;color: black;border-radius: 0.25em;background-color: #f0f8ff;}#sk-container-id-1 input.sk-toggleable__control:checked~div.sk-toggleable__content {max-height: 200px;max-width: 100%;overflow: auto;}#sk-container-id-1 input.sk-toggleable__control:checked~label.sk-toggleable__label-arrow:before {content: \"▾\";}#sk-container-id-1 div.sk-estimator input.sk-toggleable__control:checked~label.sk-toggleable__label {background-color: #d4ebff;}#sk-container-id-1 div.sk-label input.sk-toggleable__control:checked~label.sk-toggleable__label {background-color: #d4ebff;}#sk-container-id-1 input.sk-hidden--visually {border: 0;clip: rect(1px 1px 1px 1px);clip: rect(1px, 1px, 1px, 1px);height: 1px;margin: -1px;overflow: hidden;padding: 0;position: absolute;width: 1px;}#sk-container-id-1 div.sk-estimator {font-family: monospace;background-color: #f0f8ff;border: 1px dotted black;border-radius: 0.25em;box-sizing: border-box;margin-bottom: 0.5em;}#sk-container-id-1 div.sk-estimator:hover {background-color: #d4ebff;}#sk-container-id-1 div.sk-parallel-item::after {content: \"\";width: 100%;border-bottom: 1px solid gray;flex-grow: 1;}#sk-container-id-1 div.sk-label:hover label.sk-toggleable__label {background-color: #d4ebff;}#sk-container-id-1 div.sk-serial::before {content: \"\";position: absolute;border-left: 1px solid gray;box-sizing: border-box;top: 0;bottom: 0;left: 50%;z-index: 0;}#sk-container-id-1 div.sk-serial {display: flex;flex-direction: column;align-items: center;background-color: white;padding-right: 0.2em;padding-left: 0.2em;position: relative;}#sk-container-id-1 div.sk-item {position: relative;z-index: 1;}#sk-container-id-1 div.sk-parallel {display: flex;align-items: stretch;justify-content: center;background-color: white;position: relative;}#sk-container-id-1 div.sk-item::before, #sk-container-id-1 div.sk-parallel-item::before {content: \"\";position: absolute;border-left: 1px solid gray;box-sizing: border-box;top: 0;bottom: 0;left: 50%;z-index: -1;}#sk-container-id-1 div.sk-parallel-item {display: flex;flex-direction: column;z-index: 1;position: relative;background-color: white;}#sk-container-id-1 div.sk-parallel-item:first-child::after {align-self: flex-end;width: 50%;}#sk-container-id-1 div.sk-parallel-item:last-child::after {align-self: flex-start;width: 50%;}#sk-container-id-1 div.sk-parallel-item:only-child::after {width: 0;}#sk-container-id-1 div.sk-dashed-wrapped {border: 1px dashed gray;margin: 0 0.4em 0.5em 0.4em;box-sizing: border-box;padding-bottom: 0.4em;background-color: white;}#sk-container-id-1 div.sk-label label {font-family: monospace;font-weight: bold;display: inline-block;line-height: 1.2em;}#sk-container-id-1 div.sk-label-container {text-align: center;}#sk-container-id-1 div.sk-container {/* jupyter's `normalize.less` sets `[hidden] { display: none; }` but bootstrap.min.css set `[hidden] { display: none !important; }` so we also need the `!important` here to be able to override the default hidden behavior on the sphinx rendered scikit-learn.org. See: https://github.com/scikit-learn/scikit-learn/issues/21755 */display: inline-block !important;position: relative;}#sk-container-id-1 div.sk-text-repr-fallback {display: none;}</style><div id=\"sk-container-id-1\" class=\"sk-top-container\"><div class=\"sk-text-repr-fallback\"><pre>RandomForestRegressor(n_estimators=10, random_state=0)</pre><b>In a Jupyter environment, please rerun this cell to show the HTML representation or trust the notebook. <br />On GitHub, the HTML representation is unable to render, please try loading this page with nbviewer.org.</b></div><div class=\"sk-container\" hidden><div class=\"sk-item\"><div class=\"sk-estimator sk-toggleable\"><input class=\"sk-toggleable__control sk-hidden--visually\" id=\"sk-estimator-id-1\" type=\"checkbox\" checked><label for=\"sk-estimator-id-1\" class=\"sk-toggleable__label sk-toggleable__label-arrow\">RandomForestRegressor</label><div class=\"sk-toggleable__content\"><pre>RandomForestRegressor(n_estimators=10, random_state=0)</pre></div></div></div></div></div>"
            ]
          },
          "metadata": {},
          "execution_count": 189
        }
      ]
    },
    {
      "cell_type": "markdown",
      "source": [
        "#Predicting the weekly sales for test set"
      ],
      "metadata": {
        "id": "2MrWC7JMfDRu"
      }
    },
    {
      "cell_type": "code",
      "source": [
        "y_pred = regressor.predict(x_test)\n",
        "np.set_printoptions(precision=2)\n",
        "print(np.concatenate((y_pred.reshape(len(y_pred), 1), y_test.reshape(len(y_test), 1)), 1))"
      ],
      "metadata": {
        "colab": {
          "base_uri": "https://localhost:8080/"
        },
        "id": "rNfC8vHFfJMM",
        "outputId": "745dc948-2c77-4640-fcb9-c67de22d4029"
      },
      "execution_count": null,
      "outputs": [
        {
          "output_type": "stream",
          "name": "stdout",
          "text": [
            "[[2017.78 2500.16]\n",
            " [27325.333999999995 47129.06]\n",
            " [487.5200000000001 484.0]\n",
            " ...\n",
            " [22925.026000000005 24321.74]\n",
            " [1193.95 879.8]\n",
            " [20578.153 23177.4]]\n"
          ]
        }
      ]
    },
    {
      "cell_type": "markdown",
      "source": [
        "#Checking accuracy"
      ],
      "metadata": {
        "id": "ea9g_APJezMc"
      }
    },
    {
      "cell_type": "code",
      "source": [
        "from sklearn.metrics import r2_score\n",
        "r2_score(y_test, y_pred)"
      ],
      "metadata": {
        "colab": {
          "base_uri": "https://localhost:8080/"
        },
        "id": "Hkicjtyaeyi4",
        "outputId": "306e17d2-69c2-4da4-91e7-5270ae827f50"
      },
      "execution_count": null,
      "outputs": [
        {
          "output_type": "execute_result",
          "data": {
            "text/plain": [
              "0.9494136367127481"
            ]
          },
          "metadata": {},
          "execution_count": 196
        }
      ]
    }
  ]
}